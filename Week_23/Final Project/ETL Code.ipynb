{
 "cells": [
  {
   "cell_type": "code",
   "execution_count": 1,
   "id": "f2b8cfc6",
   "metadata": {},
   "outputs": [],
   "source": [
    "#Import modules\n",
    "import psycopg2\n",
    "import pandas as pd\n",
    "import numpy as np\n",
    "\n",
    "#Import password for postgres\n",
    "from passwords import password "
   ]
  },
  {
   "cell_type": "code",
   "execution_count": 2,
   "id": "a8427af9",
   "metadata": {},
   "outputs": [],
   "source": [
    "#Open a connection to postgres and create a connection object\n",
    "conn = psycopg2.connect(host='localhost', dbname='glass', user='postgres', password=password)\n",
    "#Create a cursor object to execute commands\n",
    "cur = conn.cursor()\n",
    "\n",
    "cur.execute('DROP TABLE IF EXISTS glass_data')\n",
    "cur.execute('''\n",
    "    CREATE TABLE glass_data(\n",
    "        RI float,\n",
    "        NA float,\n",
    "        MG float,\n",
    "        AL float,\n",
    "        SI float,\n",
    "        K float,\n",
    "        CA float,\n",
    "        BA float,\n",
    "        FE float,\n",
    "        TYPE integer)\n",
    "''')\n",
    "\n",
    "#Commit changes \n",
    "conn.commit()"
   ]
  },
  {
   "cell_type": "code",
   "execution_count": 3,
   "id": "8871e22f",
   "metadata": {},
   "outputs": [],
   "source": [
    "#Create a cursor object to execute commands\n",
    "cur = conn.cursor()\n",
    "\n",
    "#Open the created csv file\n",
    "with open('glass (1).csv', 'r') as i:\n",
    "    #Skip header row\n",
    "    next(i) \n",
    "    \n",
    "    #Call the created unemployment table and copy data from csv file into table\n",
    "    cur.copy_from(i, 'glass_data', sep=',', null='')\n",
    "\n",
    "#Commit changes\n",
    "#cur.execute('ALTER TABLE observation_data DROP COLUMN TYPE')\n",
    "conn.commit()"
   ]
  },
  {
   "cell_type": "code",
   "execution_count": 4,
   "id": "8f80a1f5",
   "metadata": {},
   "outputs": [],
   "source": [
    "cur = conn.cursor()\n",
    "\n",
    "cur.execute('''\n",
    "    DROP TABLE IF EXISTS observation_data;\n",
    "    CREATE TABLE observation_data (\n",
    "        OBSERVATION_ID SERIAL PRIMARY KEY,\n",
    "        RI float,\n",
    "        NA float,\n",
    "        MG float,\n",
    "        AL float,\n",
    "        SI float,\n",
    "        K float,\n",
    "        CA float,\n",
    "        BA float,\n",
    "        FE float);\n",
    "    INSERT INTO observation_data (RI, NA, MG, AL, SI, K, CA, BA, FE)\n",
    "    SELECT RI, NA, MG, AL, SI, K, CA, BA, FE from glass_data;''')\n",
    "\n",
    "conn.commit()"
   ]
  },
  {
   "cell_type": "code",
   "execution_count": 5,
   "id": "1993ebf0",
   "metadata": {},
   "outputs": [],
   "source": [
    "cur.execute('DROP TABLE IF EXISTS observation_class')\n",
    "cur.execute('''\n",
    "    CREATE TABLE observation_class(\n",
    "        OBSERVATION_ID SERIAL PRIMARY KEY,\n",
    "        CLASS_ID integer);\n",
    "    INSERT INTO observation_class (CLASS_ID) SELECT (TYPE) FROM glass_data;\n",
    "    DROP TABLE glass_data''')\n",
    "\n",
    "#Commit changes \n",
    "conn.commit()"
   ]
  },
  {
   "cell_type": "code",
   "execution_count": 6,
   "id": "4972d823",
   "metadata": {},
   "outputs": [],
   "source": [
    "cur.execute('DROP TABLE IF EXISTS class_information')\n",
    "cur.execute('''\n",
    "    CREATE TABLE class_information(\n",
    "        CLASS_ID SERIAL PRIMARY KEY,\n",
    "        CLASS_DESCRIPTION varchar);\n",
    "    INSERT INTO class_information (CLASS_DESCRIPTION) \n",
    "    VALUES ('building_windows_float_processed'), ('building_windows_non_float_processed'), \n",
    "    ('vehicle_windows_float_processed'), ('vehicle_windows_non_float_processed (none in this database)'), \n",
    "    ('containers'), ('tableware'), ('headlamps');''')\n",
    "\n",
    "#Commit changes \n",
    "conn.commit()\n",
    "#Close connection\n",
    "conn.close()"
   ]
  },
  {
   "cell_type": "markdown",
   "id": "405bf20b",
   "metadata": {},
   "source": [
    "## Queries"
   ]
  },
  {
   "cell_type": "code",
   "execution_count": null,
   "id": "dc297dd1",
   "metadata": {},
   "outputs": [],
   "source": [
    "#Open a connection to postgres and create a connection object\n",
    "conn = psycopg2.connect(host='localhost', dbname='postgres', user='postgres', password=password)\n",
    "\n",
    "query = '''\n",
    "    SELECT (MIN(ri), MAX(ri)) AS range_ri, (MIN(na), MAX(na)) AS range_na, (MIN(mg), MAX(mg)) AS range_mg,\n",
    "        (MIN(al), MAX(al)) AS range_al, (MIN(si), MAX(si)) AS range_si, (MIN(k), MAX(k)) AS range_k,\n",
    "        (MIN(ca), MAX(ca)) AS range_ca, (MIN(ba), MAX(ba)) AS range_ba, (MIN(fe), MAX(fe)) AS range_fe\n",
    "    FROM observation_data d\n",
    "    JOIN observation_class c ON d.observation_id = c.observation_id\n",
    "    GROUP BY c.class_id;'''\n",
    "\n",
    "#Reads sql query into a dataframe\n",
    "pd.read_sql(query, conn)"
   ]
  },
  {
   "cell_type": "code",
   "execution_count": null,
   "id": "18feb94c",
   "metadata": {},
   "outputs": [],
   "source": [
    "query = '''\n",
    "    SELECT MAX(ri) as max_ri, MAX(na) AS max_na, MAX(mg) AS max_mg, MAX(al) AS max_al, MAX(si) AS max_si, \n",
    "        MAX(k) AS max_k, MAX(ca) AS max_ca, MAX(ba) AS max_ba, MAX(fe) AS max_fe\n",
    "    FROM observation_data d\n",
    "    JOIN observation_class c ON d.observation_id = c.observation_id\n",
    "    GROUP BY c.class_id;'''\n",
    "\n",
    "#Reads sql query into a dataframe\n",
    "pd.read_sql(query, conn)"
   ]
  },
  {
   "cell_type": "code",
   "execution_count": null,
   "id": "b367a057",
   "metadata": {},
   "outputs": [],
   "source": [
    "query = '''\n",
    "    SELECT MIN(ri) as min_ri, MIN(na) AS min_na, MIN(mg) AS min_mg, MIN(al) AS min_al, MIN(si) AS min_si, \n",
    "        MIN(k) AS min_k, MIN(ca) AS min_ca, MIN(ba) AS min_ba, MIN(fe) AS min_fe\n",
    "    FROM observation_data d\n",
    "    JOIN observation_class c ON d.observation_id = c.observation_id\n",
    "    GROUP BY c.class_id;'''\n",
    "\n",
    "#Reads sql query into a dataframe\n",
    "pd.read_sql(query, conn)"
   ]
  },
  {
   "cell_type": "code",
   "execution_count": null,
   "id": "c1b25e74",
   "metadata": {},
   "outputs": [],
   "source": [
    "#Close connection\n",
    "conn.close()"
   ]
  }
 ],
 "metadata": {
  "kernelspec": {
   "display_name": "Python3.9",
   "language": "python",
   "name": "python3.9"
  },
  "language_info": {
   "codemirror_mode": {
    "name": "ipython",
    "version": 3
   },
   "file_extension": ".py",
   "mimetype": "text/x-python",
   "name": "python",
   "nbconvert_exporter": "python",
   "pygments_lexer": "ipython3",
   "version": "3.9.6"
  }
 },
 "nbformat": 4,
 "nbformat_minor": 5
}
